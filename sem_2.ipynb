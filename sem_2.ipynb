{
 "cells": [
  {
   "cell_type": "code",
   "execution_count": 444,
   "metadata": {},
   "outputs": [],
   "source": [
    "import pandas as pd"
   ]
  },
  {
   "cell_type": "markdown",
   "metadata": {},
   "source": [
    "1. Скачайте датасет fifаs2.сsv. Проанализируйте его и определите, какие данные являются неполными. Удалите\n",
    "ненужные колонки и недостающие значения.\n",
    "\n",
    "2. Найдите в датафрейме полные дубликаты и удалите их. Значения могут быть одинаковыми, но написаны по-разному. Например, может отличаться размер регистра (заглавные и строчные буквы). Особое внимание уделить колонке с названиями команд.\n",
    "\n",
    "3. Напишите функцию, которая добавит колонку с разбиением возраста по группам: до 20, от 20 до 30, от 30 до\n",
    "36 и старше 36. Посчитайте количество футболистов в каждой категории."
   ]
  },
  {
   "cell_type": "code",
   "execution_count": 445,
   "metadata": {},
   "outputs": [],
   "source": [
    "df = pd.read_csv('fifa_s2.csv')"
   ]
  },
  {
   "cell_type": "code",
   "execution_count": 446,
   "metadata": {},
   "outputs": [
    {
     "data": {
      "text/plain": [
       "ID                          0.000000\n",
       "Name                        0.000000\n",
       "Age                         0.000000\n",
       "Nationality                 0.002918\n",
       "Overall                     0.000000\n",
       "Potential                   0.000000\n",
       "Club                        0.100459\n",
       "Value                       0.107128\n",
       "Wage                        0.000000\n",
       "Preferred Foot              0.000000\n",
       "International Reputation    0.004168\n",
       "Skill Moves                 0.002501\n",
       "Position                    0.008754\n",
       "Joined                      0.000000\n",
       "Contract Valid Until        0.113797\n",
       "Height                      0.000000\n",
       "Weight                      0.000000\n",
       "Release Clause              0.001251\n",
       "dtype: float64"
      ]
     },
     "execution_count": 446,
     "metadata": {},
     "output_type": "execute_result"
    }
   ],
   "source": [
    "df.isna().sum() / len(df)"
   ]
  },
  {
   "cell_type": "markdown",
   "metadata": {},
   "source": [
    "определим что минимальное количество не пустых значений в столбце, чтобы он не был удален равным 89%"
   ]
  },
  {
   "cell_type": "code",
   "execution_count": 447,
   "metadata": {},
   "outputs": [
    {
     "data": {
      "text/plain": [
       "ID                          0.000000\n",
       "Name                        0.000000\n",
       "Age                         0.000000\n",
       "Nationality                 0.002918\n",
       "Overall                     0.000000\n",
       "Potential                   0.000000\n",
       "Club                        0.100459\n",
       "Value                       0.107128\n",
       "Wage                        0.000000\n",
       "Preferred Foot              0.000000\n",
       "International Reputation    0.004168\n",
       "Skill Moves                 0.002501\n",
       "Position                    0.008754\n",
       "Joined                      0.000000\n",
       "Height                      0.000000\n",
       "Weight                      0.000000\n",
       "Release Clause              0.001251\n",
       "dtype: float64"
      ]
     },
     "execution_count": 447,
     "metadata": {},
     "output_type": "execute_result"
    }
   ],
   "source": [
    "threshold = 0.11\n",
    "df = df.dropna(thresh = len(df) * (1 - threshold), axis=1)\n",
    "df.isna().sum() / len(df)"
   ]
  },
  {
   "cell_type": "code",
   "execution_count": 448,
   "metadata": {},
   "outputs": [
    {
     "data": {
      "text/plain": [
       "0"
      ]
     },
     "execution_count": 448,
     "metadata": {},
     "output_type": "execute_result"
    }
   ],
   "source": [
    "df['Club'] = df['Club'].str.lower()\n",
    "df.drop_duplicates(keep='first', inplace=True )\n",
    "df.duplicated().sum()\n",
    "\n",
    "\n"
   ]
  },
  {
   "cell_type": "code",
   "execution_count": 449,
   "metadata": {},
   "outputs": [
    {
     "name": "stdout",
     "output_type": "stream",
     "text": [
      "group_age\n",
      "от 20 до 30    1646\n",
      "от 30 до 36     458\n",
      "меньше 20       270\n",
      "больше 36        23\n",
      "Name: count, dtype: int64\n"
     ]
    }
   ],
   "source": [
    "def categorize_age(age):\n",
    "    if age < 20:\n",
    "        return 'меньше 20'\n",
    "    elif 20 <= age < 30:\n",
    "        return 'от 20 до 30'\n",
    "    elif 30 <= age  < 36:\n",
    "        return 'от 30 до 36'\n",
    "    else:\n",
    "        return 'больше 36'\n",
    "df['group_age'] = df['Age'].apply(categorize_age)\n",
    "count = df['group_age'].value_counts()\n",
    "print(count)\n",
    "\n"
   ]
  }
 ],
 "metadata": {
  "kernelspec": {
   "display_name": "Python 3",
   "language": "python",
   "name": "python3"
  },
  "language_info": {
   "codemirror_mode": {
    "name": "ipython",
    "version": 3
   },
   "file_extension": ".py",
   "mimetype": "text/x-python",
   "name": "python",
   "nbconvert_exporter": "python",
   "pygments_lexer": "ipython3",
   "version": "3.9.6"
  }
 },
 "nbformat": 4,
 "nbformat_minor": 2
}
